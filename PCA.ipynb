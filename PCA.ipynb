{
 "cells": [
  {
   "cell_type": "markdown",
   "id": "d2b6c8a8-42b6-445f-a25c-32929f3024ea",
   "metadata": {},
   "source": [
    "# PCA"
   ]
  },
  {
   "cell_type": "code",
   "execution_count": 1,
   "id": "a621b650-e838-4b1f-b5f6-f99e990ed28b",
   "metadata": {},
   "outputs": [],
   "source": [
    "# Importing libraries"
   ]
  },
  {
   "cell_type": "code",
   "execution_count": 2,
   "id": "063e5534-1c1d-47df-835f-997a999da128",
   "metadata": {},
   "outputs": [],
   "source": [
    "import numpy as np\n",
    "import matplotlib.pyplot as plt\n",
    "import pandas as pd\n",
    "from sklearn import datasets\n",
    "import seaborn"
   ]
  },
  {
   "cell_type": "code",
   "execution_count": 3,
   "id": "1dcb759e-fd51-440f-87ad-5d0bf51d7a18",
   "metadata": {},
   "outputs": [],
   "source": [
    "df=datasets.load_iris() # dataset object"
   ]
  },
  {
   "cell_type": "code",
   "execution_count": 4,
   "id": "7d257980-de30-4c13-8e19-f8edb3084e30",
   "metadata": {},
   "outputs": [],
   "source": [
    "# these are the paramters we will alwyas use in inbuilt data sets \n",
    "# "
   ]
  },
  {
   "cell_type": "code",
   "execution_count": 5,
   "id": "87b09ccd-a3fc-49dc-acbf-6d4cd98c4ea9",
   "metadata": {},
   "outputs": [
    {
     "data": {
      "text/plain": [
       "'\\ndf.data # indeperndent varaibles   gives X variables \\ndf.target # dependent varaible   gives Y variables \\ndf.feature_names # column headers\\nprint(df.DESCR)  # dataset description\\n'"
      ]
     },
     "execution_count": 5,
     "metadata": {},
     "output_type": "execute_result"
    }
   ],
   "source": [
    "\"\"\"\n",
    "df.data # indeperndent varaibles   gives X variables \n",
    "df.target # dependent varaible   gives Y variables \n",
    "df.feature_names # column headers\n",
    "print(df.DESCR)  # dataset description\n",
    "\"\"\""
   ]
  },
  {
   "cell_type": "code",
   "execution_count": 6,
   "id": "d9c31cac-fdaf-44f5-8197-13c8cfba0eff",
   "metadata": {},
   "outputs": [
    {
     "name": "stdout",
     "output_type": "stream",
     "text": [
      ".. _iris_dataset:\n",
      "\n",
      "Iris plants dataset\n",
      "--------------------\n",
      "\n",
      "**Data Set Characteristics:**\n",
      "\n",
      "    :Number of Instances: 150 (50 in each of three classes)\n",
      "    :Number of Attributes: 4 numeric, predictive attributes and the class\n",
      "    :Attribute Information:\n",
      "        - sepal length in cm\n",
      "        - sepal width in cm\n",
      "        - petal length in cm\n",
      "        - petal width in cm\n",
      "        - class:\n",
      "                - Iris-Setosa\n",
      "                - Iris-Versicolour\n",
      "                - Iris-Virginica\n",
      "                \n",
      "    :Summary Statistics:\n",
      "\n",
      "    ============== ==== ==== ======= ===== ====================\n",
      "                    Min  Max   Mean    SD   Class Correlation\n",
      "    ============== ==== ==== ======= ===== ====================\n",
      "    sepal length:   4.3  7.9   5.84   0.83    0.7826\n",
      "    sepal width:    2.0  4.4   3.05   0.43   -0.4194\n",
      "    petal length:   1.0  6.9   3.76   1.76    0.9490  (high!)\n",
      "    petal width:    0.1  2.5   1.20   0.76    0.9565  (high!)\n",
      "    ============== ==== ==== ======= ===== ====================\n",
      "\n",
      "    :Missing Attribute Values: None\n",
      "    :Class Distribution: 33.3% for each of 3 classes.\n",
      "    :Creator: R.A. Fisher\n",
      "    :Donor: Michael Marshall (MARSHALL%PLU@io.arc.nasa.gov)\n",
      "    :Date: July, 1988\n",
      "\n",
      "The famous Iris database, first used by Sir R.A. Fisher. The dataset is taken\n",
      "from Fisher's paper. Note that it's the same as in R, but not as in the UCI\n",
      "Machine Learning Repository, which has two wrong data points.\n",
      "\n",
      "This is perhaps the best known database to be found in the\n",
      "pattern recognition literature.  Fisher's paper is a classic in the field and\n",
      "is referenced frequently to this day.  (See Duda & Hart, for example.)  The\n",
      "data set contains 3 classes of 50 instances each, where each class refers to a\n",
      "type of iris plant.  One class is linearly separable from the other 2; the\n",
      "latter are NOT linearly separable from each other.\n",
      "\n",
      ".. topic:: References\n",
      "\n",
      "   - Fisher, R.A. \"The use of multiple measurements in taxonomic problems\"\n",
      "     Annual Eugenics, 7, Part II, 179-188 (1936); also in \"Contributions to\n",
      "     Mathematical Statistics\" (John Wiley, NY, 1950).\n",
      "   - Duda, R.O., & Hart, P.E. (1973) Pattern Classification and Scene Analysis.\n",
      "     (Q327.D83) John Wiley & Sons.  ISBN 0-471-22361-1.  See page 218.\n",
      "   - Dasarathy, B.V. (1980) \"Nosing Around the Neighborhood: A New System\n",
      "     Structure and Classification Rule for Recognition in Partially Exposed\n",
      "     Environments\".  IEEE Transactions on Pattern Analysis and Machine\n",
      "     Intelligence, Vol. PAMI-2, No. 1, 67-71.\n",
      "   - Gates, G.W. (1972) \"The Reduced Nearest Neighbor Rule\".  IEEE Transactions\n",
      "     on Information Theory, May 1972, 431-433.\n",
      "   - See also: 1988 MLC Proceedings, 54-64.  Cheeseman et al\"s AUTOCLASS II\n",
      "     conceptual clustering system finds 3 classes in the data.\n",
      "   - Many, many more ...\n"
     ]
    }
   ],
   "source": [
    "print(df.DESCR)  # dataset description"
   ]
  },
  {
   "cell_type": "code",
   "execution_count": 7,
   "id": "e11c5e66-bb1d-4d54-8e25-0d4b3a18c556",
   "metadata": {},
   "outputs": [],
   "source": [
    "# Splitting the data into X and Y "
   ]
  },
  {
   "cell_type": "code",
   "execution_count": 8,
   "id": "dff40728-ca96-4868-b5be-c91115d1bc53",
   "metadata": {},
   "outputs": [],
   "source": [
    "X=df.data\n",
    "Y=df.target"
   ]
  },
  {
   "cell_type": "code",
   "execution_count": 9,
   "id": "5720f53a-3490-4e9e-bf46-4c5e8a4325c8",
   "metadata": {},
   "outputs": [
    {
     "name": "stdout",
     "output_type": "stream",
     "text": [
      "(150, 4)\n",
      "(150,)\n"
     ]
    }
   ],
   "source": [
    "print(X.shape)\n",
    "print(Y.shape)"
   ]
  },
  {
   "cell_type": "code",
   "execution_count": 10,
   "id": "566daad9-0964-4fe8-bd75-952cb99f562d",
   "metadata": {},
   "outputs": [],
   "source": [
    "# Feature Selection\n"
   ]
  },
  {
   "cell_type": "code",
   "execution_count": 11,
   "id": "e3fcb457-f515-4689-8fd6-ae589362ba09",
   "metadata": {},
   "outputs": [],
   "source": [
    "from sklearn.preprocessing import StandardScaler\n",
    "scaler=StandardScaler()\n",
    "X=scaler.fit_transform(X)"
   ]
  },
  {
   "cell_type": "code",
   "execution_count": 12,
   "id": "72d22f43-4e0c-4bc8-8be8-ab41cb6ce09d",
   "metadata": {},
   "outputs": [],
   "source": [
    "from sklearn.model_selection import train_test_split\n",
    "\n",
    "# split the data into test and train\n",
    "X_train, X_test, Y_train,Y_test=train_test_split(X, Y, test_size=0.20,random_state=10)    "
   ]
  },
  {
   "cell_type": "code",
   "execution_count": null,
   "id": "e17aaa72-52c2-42a4-b3b8-f35f638abdd8",
   "metadata": {},
   "outputs": [],
   "source": []
  },
  {
   "cell_type": "code",
   "execution_count": 13,
   "id": "74e1b784-5ee3-4916-a386-c458843e80a3",
   "metadata": {},
   "outputs": [
    {
     "name": "stdout",
     "output_type": "stream",
     "text": [
      "[0.73357923 0.22153097 0.03974125 0.00514855]\n"
     ]
    }
   ],
   "source": [
    "# Applying PCA\n",
    "from sklearn.decomposition import PCA\n",
    "pca = PCA(n_components = None) #to view the entire eigen vector,no subsetting # nothing will happen \n",
    "X_train_new = pca.fit_transform(X_train) # fit is always use in train data\n",
    "X_test_new = pca.transform(X_test)\n",
    "explained_variance = pca.explained_variance_ratio_  # this parameter will give the descending order \n",
    "print(explained_variance)"
   ]
  },
  {
   "cell_type": "code",
   "execution_count": 14,
   "id": "77a66570-cc02-44aa-bb82-5b97869efb56",
   "metadata": {},
   "outputs": [
    {
     "data": {
      "text/plain": [
       "[1.0]"
      ]
     },
     "execution_count": 14,
     "metadata": {},
     "output_type": "execute_result"
    }
   ],
   "source": [
    "[0.73357923 +0.22153097 +0.03974125+ 0.00514855]"
   ]
  },
  {
   "cell_type": "code",
   "execution_count": 15,
   "id": "c90aaec2-e61f-4eec-8705-bae2d4399ba6",
   "metadata": {},
   "outputs": [
    {
     "data": {
      "text/plain": [
       "[0.9551102]"
      ]
     },
     "execution_count": 15,
     "metadata": {},
     "output_type": "execute_result"
    }
   ],
   "source": [
    "[0.73357923 +0.22153097]"
   ]
  },
  {
   "cell_type": "markdown",
   "id": "c9c78752-b786-40c7-a6b7-7ce49dce8253",
   "metadata": {},
   "source": [
    "# Passsing 0.95 as n_components"
   ]
  },
  {
   "cell_type": "code",
   "execution_count": 17,
   "id": "4c237faa-b3e6-4ef9-94f4-b5fb1dc85c0d",
   "metadata": {},
   "outputs": [
    {
     "name": "stdout",
     "output_type": "stream",
     "text": [
      "[0.73357923 0.22153097]\n"
     ]
    }
   ],
   "source": [
    "# Applying PCA\n",
    "from sklearn.decomposition import PCA\n",
    "pca = PCA(n_components = 0.95) #to view the entire eigen vector,no subsetting # nothing will happen \n",
    "X_train_new = pca.fit_transform(X_train) # fit is always use in train data\n",
    "X_test_new = pca.transform(X_test)\n",
    "explained_variance = pca.explained_variance_ratio_  # this parameter will give the descending order \n",
    "print(explained_variance)"
   ]
  },
  {
   "cell_type": "markdown",
   "id": "f456a44a-3ec1-444b-977e-08d83e240f76",
   "metadata": {},
   "source": [
    "# Paramter to count no of components \n"
   ]
  },
  {
   "cell_type": "code",
   "execution_count": null,
   "id": "c8118866-f19a-4497-97f9-2a594d98ea4a",
   "metadata": {},
   "outputs": [],
   "source": [
    "pca.n_components_"
   ]
  },
  {
   "cell_type": "code",
   "execution_count": 21,
   "id": "a3848888-4d93-4d59-a8a6-73f64cd8644e",
   "metadata": {},
   "outputs": [],
   "source": [
    "# fitting svc to the training set\n",
    "\n",
    "from sklearn.svm import SVC\n",
    "classifier=SVC(kernel='rbf',gamma=0.1,C=1)\n",
    "classifier.fit(X_train_new,Y_train)\n",
    "#predicting the test set results\n",
    "Y_pred=classifier.predict(X_test_new)"
   ]
  },
  {
   "cell_type": "code",
   "execution_count": 22,
   "id": "677cf2b2-6e56-4010-8a3d-33a222f672db",
   "metadata": {},
   "outputs": [
    {
     "name": "stdout",
     "output_type": "stream",
     "text": [
      "[[10  0  0]\n",
      " [ 0 10  3]\n",
      " [ 0  0  7]]\n",
      "Classification report: \n",
      "              precision    recall  f1-score   support\n",
      "\n",
      "           0       1.00      1.00      1.00        10\n",
      "           1       1.00      0.77      0.87        13\n",
      "           2       0.70      1.00      0.82         7\n",
      "\n",
      "    accuracy                           0.90        30\n",
      "   macro avg       0.90      0.92      0.90        30\n",
      "weighted avg       0.93      0.90      0.90        30\n",
      "\n",
      "Accuracy of the model:  0.9\n"
     ]
    }
   ],
   "source": [
    "from sklearn.metrics import confusion_matrix, accuracy_score, classification_report\n",
    "\n",
    "cfm=confusion_matrix(Y_test,Y_pred)\n",
    "print(cfm)\n",
    "\n",
    "print(\"Classification report: \")\n",
    "\n",
    "print(classification_report(Y_test,Y_pred))\n",
    "\n",
    "\n",
    "acc=accuracy_score(Y_test, Y_pred)\n",
    "print(\"Accuracy of the model: \",acc)"
   ]
  },
  {
   "cell_type": "markdown",
   "id": "a47223fd-8ca2-4206-9bfa-9fe10e994611",
   "metadata": {},
   "source": [
    "# Applying n_components with whole number 3"
   ]
  },
  {
   "cell_type": "code",
   "execution_count": 23,
   "id": "2ca3897a-80a3-4b96-abee-26e5af9e0eae",
   "metadata": {},
   "outputs": [
    {
     "name": "stdout",
     "output_type": "stream",
     "text": [
      "[0.73357923 0.22153097 0.03974125]\n"
     ]
    }
   ],
   "source": [
    "# Applying PCA\n",
    "from sklearn.decomposition import PCA\n",
    "pca = PCA(n_components = 3) #to view the entire eigen vector,no subsetting # nothing will happen \n",
    "X_train_new = pca.fit_transform(X_train) # fit is always use in train data\n",
    "X_test_new = pca.transform(X_test)\n",
    "explained_variance = pca.explained_variance_ratio_  # this parameter will give the descending order \n",
    "print(explained_variance)"
   ]
  },
  {
   "cell_type": "code",
   "execution_count": 24,
   "id": "9d85c217-195a-4eb1-8578-d210b1ca0162",
   "metadata": {},
   "outputs": [],
   "source": [
    "# fitting svc to the training set\n",
    "\n",
    "from sklearn.svm import SVC\n",
    "classifier=SVC(kernel='rbf',gamma=0.1,C=1)\n",
    "classifier.fit(X_train_new,Y_train)\n",
    "#predicting the test set results\n",
    "Y_pred=classifier.predict(X_test_new)"
   ]
  },
  {
   "cell_type": "code",
   "execution_count": 25,
   "id": "db467a01-e22a-45f6-a716-daceffd651e0",
   "metadata": {},
   "outputs": [
    {
     "name": "stdout",
     "output_type": "stream",
     "text": [
      "[[10  0  0]\n",
      " [ 0 13  0]\n",
      " [ 0  0  7]]\n",
      "Classification report: \n",
      "              precision    recall  f1-score   support\n",
      "\n",
      "           0       1.00      1.00      1.00        10\n",
      "           1       1.00      1.00      1.00        13\n",
      "           2       1.00      1.00      1.00         7\n",
      "\n",
      "    accuracy                           1.00        30\n",
      "   macro avg       1.00      1.00      1.00        30\n",
      "weighted avg       1.00      1.00      1.00        30\n",
      "\n",
      "Accuracy of the model:  1.0\n"
     ]
    }
   ],
   "source": [
    "from sklearn.metrics import confusion_matrix, accuracy_score, classification_report\n",
    "\n",
    "cfm=confusion_matrix(Y_test,Y_pred)\n",
    "print(cfm)\n",
    "\n",
    "print(\"Classification report: \")\n",
    "\n",
    "print(classification_report(Y_test,Y_pred))\n",
    "\n",
    "\n",
    "acc=accuracy_score(Y_test, Y_pred)\n",
    "print(\"Accuracy of the model: \",acc)"
   ]
  },
  {
   "cell_type": "code",
   "execution_count": null,
   "id": "8d04e668-f8b3-46ba-9941-089598a1aa9c",
   "metadata": {},
   "outputs": [],
   "source": [
    "# apllying n_compomnents = 2"
   ]
  },
  {
   "cell_type": "code",
   "execution_count": 26,
   "id": "a7abe5ed-7005-4c3b-a420-1de333c337ad",
   "metadata": {},
   "outputs": [
    {
     "name": "stdout",
     "output_type": "stream",
     "text": [
      "[0.73357923 0.22153097]\n"
     ]
    }
   ],
   "source": [
    "# Applying PCA\n",
    "from sklearn.decomposition import PCA\n",
    "pca = PCA(n_components = 2) #to view the entire eigen vector,no subsetting # nothing will happen \n",
    "X_train_new = pca.fit_transform(X_train) # fit is always use in train data\n",
    "X_test_new = pca.transform(X_test)\n",
    "explained_variance = pca.explained_variance_ratio_  # this parameter will give the descending order \n",
    "print(explained_variance)"
   ]
  },
  {
   "cell_type": "code",
   "execution_count": 27,
   "id": "4ff7b13c-f0e0-4a66-8aa1-85b36e3056ed",
   "metadata": {},
   "outputs": [],
   "source": [
    "# fitting svc to the training set\n",
    "\n",
    "from sklearn.svm import SVC\n",
    "classifier=SVC(kernel='rbf',gamma=0.1,C=1)\n",
    "classifier.fit(X_train_new,Y_train)\n",
    "#predicting the test set results\n",
    "Y_pred=classifier.predict(X_test_new)"
   ]
  },
  {
   "cell_type": "code",
   "execution_count": 28,
   "id": "ec524dfc-d025-4a9a-8c02-c16d6a9c162f",
   "metadata": {},
   "outputs": [
    {
     "name": "stdout",
     "output_type": "stream",
     "text": [
      "[[10  0  0]\n",
      " [ 0 10  3]\n",
      " [ 0  0  7]]\n",
      "Classification report: \n",
      "              precision    recall  f1-score   support\n",
      "\n",
      "           0       1.00      1.00      1.00        10\n",
      "           1       1.00      0.77      0.87        13\n",
      "           2       0.70      1.00      0.82         7\n",
      "\n",
      "    accuracy                           0.90        30\n",
      "   macro avg       0.90      0.92      0.90        30\n",
      "weighted avg       0.93      0.90      0.90        30\n",
      "\n",
      "Accuracy of the model:  0.9\n"
     ]
    }
   ],
   "source": [
    "from sklearn.metrics import confusion_matrix, accuracy_score, classification_report\n",
    "\n",
    "cfm=confusion_matrix(Y_test,Y_pred)\n",
    "print(cfm)\n",
    "\n",
    "print(\"Classification report: \")\n",
    "\n",
    "print(classification_report(Y_test,Y_pred))\n",
    "\n",
    "\n",
    "acc=accuracy_score(Y_test, Y_pred)\n",
    "print(\"Accuracy of the model: \",acc)"
   ]
  },
  {
   "cell_type": "markdown",
   "id": "a543c1fd-961b-49cb-8b9a-adf25b086f58",
   "metadata": {},
   "source": [
    "# Data Visualization"
   ]
  },
  {
   "cell_type": "code",
   "execution_count": 30,
   "id": "0e47331d-fd9c-4567-9e8b-faf3ad0c7127",
   "metadata": {},
   "outputs": [
    {
     "name": "stderr",
     "output_type": "stream",
     "text": [
      "C:\\Users\\Shreyas\\AppData\\Local\\Temp\\ipykernel_30088\\1166942180.py:11: UserWarning: *c* argument looks like a single numeric RGB or RGBA sequence, which should be avoided as value-mapping will have precedence in case its length matches with *x* & *y*.  Please use the *color* keyword-argument or provide a 2D array with a single row if you intend to specify the same RGB or RGBA value for all points.\n",
      "  plt.scatter(X_set[y_set == j, 0], X_set[y_set == j,1 ],\n"
     ]
    },
    {
     "data": {
      "image/png": "[encoded data removed]",
      "text/plain": [
       "<Figure size 640x480 with 1 Axes>"
      ]
     },
     "metadata": {},
     "output_type": "display_data"
    }
   ],
   "source": [
    "# Visualising the Train set results\n",
    "from matplotlib.colors import ListedColormap\n",
    "X_set, y_set = X_train_new, Y_train\n",
    "X1, X2 = np.meshgrid(np.arange(start = X_set[:, 0].min() - 1, stop = X_set[:, 0].max() + 1, step = 0.01),    \n",
    "                     np.arange(start = X_set[:, 1].min() - 1, stop = X_set[:, 1].max() + 1, step = 0.01))\n",
    "plt.contourf(X1, X2, classifier.predict(np.array([X1.ravel(), X2.ravel()]).T).reshape(X1.shape),\n",
    "             alpha = 0.3, cmap = ListedColormap(('red', 'green', 'blue')))\n",
    "plt.xlim(X1.min(), X1.max())\n",
    "plt.ylim(X2.min(), X2.max())\n",
    "for i, j in enumerate(np.unique(y_set)):\n",
    "    plt.scatter(X_set[y_set == j, 0], X_set[y_set == j,1 ],\n",
    "                c = ListedColormap(('red', 'yellow', 'blue'))(i), label = j)\n",
    "plt.title('SVM (Train set)')\n",
    "plt.xlabel('PC1')\n",
    "plt.ylabel('PC2')\n",
    "plt.legend()\n",
    "plt.show()"
   ]
  },
  {
   "cell_type": "code",
   "execution_count": 34,
   "id": "e62d4779-c7c1-4b47-8508-6cde1e2bc3a6",
   "metadata": {},
   "outputs": [
    {
     "name": "stderr",
     "output_type": "stream",
     "text": [
      "C:\\Users\\Shreyas\\AppData\\Local\\Temp\\ipykernel_30088\\2272269782.py:11: UserWarning: *c* argument looks like a single numeric RGB or RGBA sequence, which should be avoided as value-mapping will have precedence in case its length matches with *x* & *y*.  Please use the *color* keyword-argument or provide a 2D array with a single row if you intend to specify the same RGB or RGBA value for all points.\n",
      "  plt.scatter(X_set[y_set == j, 0], X_set[y_set == j,1 ],\n"
     ]
    },
    {
     "data": {
      "image/png": "[encoded data removed]",
      "text/plain": [
       "<Figure size 640x480 with 1 Axes>"
      ]
     },
     "metadata": {},
     "output_type": "display_data"
    }
   ],
   "source": [
    "# Visualising the Train set results\n",
    "from matplotlib.colors import ListedColormap\n",
    "X_set, y_set = X_test_new, Y_test  # this is where we pass right arrays that needs to be visualize\n",
    "X1, X2 = np.meshgrid(np.arange(start = X_set[:, 0].min() - 1, stop = X_set[:, 0].max() + 1, step = 0.01),    \n",
    "                     np.arange(start = X_set[:, 1].min() - 1, stop = X_set[:, 1].max() + 1, step = 0.01))\n",
    "plt.contourf(X1, X2, classifier.predict(np.array([X1.ravel(), X2.ravel()]).T).reshape(X1.shape),           # pass the correct model object\n",
    "             alpha = 0.3, cmap = ListedColormap(('orange', 'white', 'green')))  # need to pass as many colours as many classes should match\n",
    "plt.xlim(X1.min(), X1.max())\n",
    "plt.ylim(X2.min(), X2.max())\n",
    "for i, j in enumerate(np.unique(y_set)):\n",
    "    plt.scatter(X_set[y_set == j, 0], X_set[y_set == j,1 ],\n",
    "                c = ListedColormap(('red', 'blue', 'green'))(i), label = j)\n",
    "plt.title('SVM (Train set)')\n",
    "plt.xlabel('PC1')\n",
    "plt.ylabel('PC2')\n",
    "plt.legend()\n",
    "plt.show()"
   ]
  }
 ],
 "metadata": {
  "kernelspec": {
   "display_name": "Python 3 (ipykernel)",
   "language": "python",
   "name": "python3"
  },
  "language_info": {
   "codemirror_mode": {
    "name": "ipython",
    "version": 3
   },
   "file_extension": ".py",
   "mimetype": "text/x-python",
   "name": "python",
   "nbconvert_exporter": "python",
   "pygments_lexer": "ipython3",
   "version": "3.11.7"
  }
 },
 "nbformat": 4,
 "nbformat_minor": 5
}
